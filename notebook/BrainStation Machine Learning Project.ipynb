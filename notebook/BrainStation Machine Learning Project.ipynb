{
 "cells": [
  {
   "cell_type": "markdown",
   "metadata": {},
   "source": [
    "# Machine Learning Project"
   ]
  },
  {
   "cell_type": "markdown",
   "metadata": {},
   "source": [
    "## Introduction"
   ]
  },
  {
   "cell_type": "markdown",
   "metadata": {},
   "source": [
    "After taking the Data Science course from BrainStation, I learned how powerful python and its libraries in data analysis, prediction and visualization. In order to strengen my skills in algorithm development, I decided to take a step further to continue and deep dive into Machine Learning. \n",
    "\n",
    "Currently I am at the 3rd week of the course and planning on my project, it took me a while to decide a topic as I tried to avoid having repetitive skills as used in Data Science course. I learned that there are various stages of machin learning:\n",
    "    1. Data collection\n",
    "    2. Data sorting\n",
    "    3. Data analysis\n",
    "    4. Algorithm development\n",
    "    5. Apply and optimize algorithm\n",
    "    6. Utilize the results geneterated from the algorithm to provide insights and further conclusions\n",
    "\n",
    "In order to apply all the above skills and use all sort of machine learning APIs more extensively including sci-kit learn, TensorFlow and Keras, I have done research and read feedback on suggested projects, and decided to proceed with analyzing Real and Fake news. Data was taken from Kaggle and the project is in progress. I will constantly upload the noteboook for updates, so stay tuned!"
   ]
  },
  {
   "cell_type": "code",
   "execution_count": null,
   "metadata": {},
   "outputs": [],
   "source": []
  },
  {
   "cell_type": "code",
   "execution_count": null,
   "metadata": {},
   "outputs": [],
   "source": [
    "# import libraries\n",
    "# more libraries will be imported as I go\n",
    "\n",
    "# libraries for data processing and data analysis\n",
    "import numpy as np\n",
    "import pandas as pd\n",
    "import matplotlib.pyplot as plt\n",
    "import seaborn as sns\n",
    "sns.set(style=\"darkgrid\")\n",
    "\n",
    "%matplotlib inline\n",
    "\n",
    "# visual representation of text data\n",
    "from wordcloud import WordCloud\n",
    "\n",
    "# libraries for machine learning\n"
   ]
  }
 ],
 "metadata": {
  "kernelspec": {
   "display_name": "Python 3",
   "language": "python",
   "name": "python3"
  },
  "language_info": {
   "codemirror_mode": {
    "name": "ipython",
    "version": 3
   },
   "file_extension": ".py",
   "mimetype": "text/x-python",
   "name": "python",
   "nbconvert_exporter": "python",
   "pygments_lexer": "ipython3",
   "version": "3.8.1"
  }
 },
 "nbformat": 4,
 "nbformat_minor": 4
}
